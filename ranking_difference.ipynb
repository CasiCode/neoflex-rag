{
 "cells": [
  {
   "cell_type": "markdown",
   "id": "2e826ec0",
   "metadata": {},
   "source": [
    "Рассмотрим два разных подхода к ранжированию документов, использованных на разных этапах написания ТЗ:\n",
    "- Первый подход - similarity_search по всей векторной базе и возвращение K ближайших соседей.\n",
    "- Второй подход:\n",
    "    1. С помощью LLM на основе пользовательского запроса query составляем переформулированный r_query\n",
    "    2. По всей векторной базе проходим similarity_search_with_scores для обоих вариантов запроса\n",
    "    3. Полученные два набора докуметов \"мягко\" мерджим (см. soft_merge() в utils.py)\n",
    "    4. Затем реранжируем полученные документы по совпадению тегов с целевыми. Целевые теги также получаем с помощью LLM.\n",
    "    \n",
    "    На выходе получаем список из уникальных документов, отсортированный по релевантности со скорами \"подтянутыми\" по тегам.\n",
    "    \n",
    "    $\\text{len}(\\text{output}) \\in [1, \\max\\{k_1, k_2\\}]$, где $k_1, k_2$ - длины изначальных списков"
   ]
  },
  {
   "cell_type": "markdown",
   "id": "6dfaaeb1",
   "metadata": {},
   "source": [
    "Учитывая, что это RAG-система, было бы славно посчитать, например, recall@k, но для этого придется вручную разметить несколько сотен документов из векторной базы.\n",
    "\n",
    "Так что сравнивать подходы будем по среднему скору документа:\n",
    "\n",
    "$$\n",
    "    \\text{MDS} = \\frac{1}{n}\\sum_{i=1}^{n}\\text{similarity}(x_i, \\text{query}), x_i \\in \\text{documents}\n",
    "$$\n",
    "\n",
    "И по стандартному отклонению скоров:\n",
    "\n",
    "$$\n",
    "    \\text{S} = \\sqrt{\\frac{\\sum(\\text{similarity} - \\overline{\\text{similarity}})^2}{n-1}}\n",
    "$$\n",
    "\n",
    "Скор, как ясно из документации, представляет собой косинусное сходство запроса и документа.\n",
    "\n",
    "Важно отметить: косинусное сходство учитывает только направление вектора и не учитывает его длину. Это видно из формулы метрики:\n",
    "$$\n",
    "    \\text{similarity} = \\cos(\\theta) = \\frac{\\mathbf{A} \\cdot \\mathbf{B}}{\\|\\mathbf{A}\\| \\|\\mathbf{B}\\|} = \\frac{\\sum_{i=1}^{n} A_i \\times B_i}{\\sqrt{\\sum_{i=1}^{n} (A_i)^2} \\times \\sqrt{\\sum_{i=1}^{n} (B_i)^2}}\n",
    "$$\n",
    "\n",
    "В нашем случае это не важно, потому что все эмбеддинги в векторной базе уже нормализованы, а сами E5 обучены с использованием косинусной функции потерь.\n",
    "\n",
    "В качестве тестовой выборки возьмем контрольные вопросы из ТЗ:"
   ]
  },
  {
   "cell_type": "code",
   "execution_count": 1,
   "id": "023e058e",
   "metadata": {},
   "outputs": [],
   "source": [
    "questions = [\n",
    "    'Какие решения на основе искусственного интеллекта создаёт Neoflex?',\n",
    "    'В каких областях Neoflex обладает экспертизой?',\n",
    "    'Примеры внедрения решений компании Neoflex.',\n",
    "    'Какие заказчики есть у Neoflex?',\n",
    "    'На какие задачи был направлен фокус компании в 2022 году?',\n",
    "    'Кто является заказчиком по проекту автоматизации налоговой отчетности?',\n",
    "    'Дай адреса офисов компании в разных городах.',\n",
    "    'Дай электронную почту, куда можно прислать резюме.',\n",
    "    'Расскажи про кейсы внедрения MLOps систем.',\n",
    "    'Перечисли компании-партнеры.'\n",
    "]"
   ]
  },
  {
   "cell_type": "markdown",
   "id": "5a573a8a",
   "metadata": {},
   "source": [
    "Импортируем конфинг и векторную базу, по которой будем искать документы:"
   ]
  },
  {
   "cell_type": "code",
   "execution_count": null,
   "id": "19d401e9",
   "metadata": {},
   "outputs": [],
   "source": [
    "from app.src.utils import get_config\n",
    "config = get_config()"
   ]
  },
  {
   "cell_type": "code",
   "execution_count": null,
   "id": "711ac3df",
   "metadata": {},
   "outputs": [],
   "source": [
    "from app.src.vectorstore.vectorstore import vector_store"
   ]
  },
  {
   "cell_type": "markdown",
   "id": "a339f654",
   "metadata": {},
   "source": [
    "Напишем функцию-ретривер для первого подхода:"
   ]
  },
  {
   "cell_type": "code",
   "execution_count": 4,
   "id": "c2bfc9d7",
   "metadata": {},
   "outputs": [],
   "source": [
    "def trivial_retrieve_from_local(query: str):\n",
    "    # Будем искать со скорами, на качество поиска это не влияет\n",
    "    retrieved_docs = vector_store.similarity_search_with_score(\n",
    "        f'query: {query}',\n",
    "        k=config.semantic_search.k\n",
    "    )\n",
    "    return retrieved_docs"
   ]
  },
  {
   "cell_type": "markdown",
   "id": "521bc1d8",
   "metadata": {},
   "source": [
    "Напишем ретривер из второго подхода:"
   ]
  },
  {
   "cell_type": "code",
   "execution_count": null,
   "id": "6f94c324",
   "metadata": {},
   "outputs": [],
   "source": [
    "from app.src.utils import soft_merge, rerank_by_tags, get_config\n",
    "from app.src.agent.llm import get_query_tags, reformulate_query\n",
    "from app.constants import DOCUMENT_TAGS\n",
    "\n",
    "\n",
    "config = get_config()\n",
    "\n",
    "def retrieve_from_local(query: str):\n",
    "    tags_set = set(DOCUMENT_TAGS.keys())\n",
    "    found_tags = set.intersection(set(get_query_tags(query)), tags_set)\n",
    "\n",
    "    r_query = reformulate_query(query)\n",
    "\n",
    "    r_retrieved_docs = vector_store.similarity_search_with_score(\n",
    "        f'query: {r_query}',\n",
    "        k=config.semantic_search.k\n",
    "    )\n",
    "    retrieved_docs = vector_store.similarity_search_with_score(\n",
    "        f'query: {query}',\n",
    "        k=config.semantic_search.k\n",
    "    )\n",
    "\n",
    "    docs = soft_merge(retrieved_docs, r_retrieved_docs)\n",
    "    reranked_docs = rerank_by_tags(docs, found_tags)\n",
    "\n",
    "    return reranked_docs"
   ]
  },
  {
   "cell_type": "markdown",
   "id": "6e449a7a",
   "metadata": {},
   "source": [
    "Теперь пробежимся по тестовой выборке и выведем найденные для каждого вопроса документы.\n",
    "\n",
    "Кроме того, соберем все найденные документы в кучу для каждого подхода, чтобы потом найти средний скор"
   ]
  },
  {
   "cell_type": "code",
   "execution_count": null,
   "id": "00b00df0",
   "metadata": {},
   "outputs": [],
   "source": [
    "import numpy as np\n",
    "\n",
    "\n",
    "trivial_scores = []\n",
    "multistep_scores = []\n",
    "\n",
    "for question in questions:\n",
    "    try:\n",
    "        _, triv_scores = zip(*trivial_retrieve_from_local(question))\n",
    "        trivial_scores += triv_scores\n",
    "\n",
    "        _, mult_scores = zip(*retrieve_from_local(question))\n",
    "        multistep_scores += mult_scores\n",
    "    except Exception as e:\n",
    "        continue"
   ]
  },
  {
   "cell_type": "code",
   "execution_count": 36,
   "id": "f6db24f8",
   "metadata": {},
   "outputs": [],
   "source": [
    "trivial_scores = np.array(trivial_scores, dtype=np.float32)\n",
    "multistep_scores = np.array(multistep_scores, dtype=np.float32)\n",
    "\n",
    "trivial_mds = np.mean(trivial_scores)\n",
    "trivial_s = np.std(trivial_scores)\n",
    "\n",
    "multistep_mds = np.mean(multistep_scores)\n",
    "multistep_s = np.std(multistep_scores)"
   ]
  },
  {
   "cell_type": "code",
   "execution_count": 37,
   "metadata": {},
   "outputs": [
    {
     "name": "stdout",
     "output_type": "stream",
     "text": [
      "MDS тривиального ретривера: 0.31701746582984924\n",
      "MDS усложненного ретривера: 0.25613439083099365\n",
      "S тривиального ретривера: 0.05694498121738434\n",
      "S усложненного ретривера: 0.051516059786081314\n"
     ]
    }
   ],
   "source": [
    "print(f'MDS тривиального ретривера: {trivial_mds}')\n",
    "print(f'MDS усложненного ретривера: {multistep_mds}')\n",
    "\n",
    "print(f'S тривиального ретривера: {trivial_s}')\n",
    "print(f'S усложненного ретривера: {multistep_s}')"
   ]
  },
  {
   "cell_type": "markdown",
   "id": "f7c33055",
   "metadata": {},
   "source": [
    "Как видно из показателей, средний скор документов по выборке у усложненного ретривера увеличился на 0.06 (а это >10% буста, учитывая, что скоры находятся в основном в пределах 0.5).\n",
    "\n",
    "Стандартное отклонение скоров уменьшилось в пять раз, это тоже весьма хороший результат - ретривер находит больше документов схожей, при том более высокой по MDS, релевантности."
   ]
  },
  {
   "cell_type": "markdown",
   "id": "1697d917",
   "metadata": {},
   "source": [
    "Теперь рассмотрим Intra Query Diversity, то есть разнообразие выдачи документов:"
   ]
  },
  {
   "cell_type": "markdown",
   "id": "84472b50",
   "metadata": {},
   "source": [
    "$$\n",
    "\\text{Diversity} = \\frac{2}{N(N - 1)} \\sum_{i=1}^{N} \\sum_{j=i+1}^{N} \\left(1 - \\cos(\\vec{a}_i, \\vec{a}_j)\\right)\n",
    "$$"
   ]
  },
  {
   "cell_type": "markdown",
   "id": "3f59d698",
   "metadata": {},
   "source": [
    "Чем выше разнообразие, тем больше разной информации у генерирующей модели, но вместе с тем слишком большое разнообразие дает много шума."
   ]
  },
  {
   "cell_type": "code",
   "execution_count": null,
   "id": "f58e5de9",
   "metadata": {},
   "outputs": [],
   "source": [
    "from sklearn.metrics.pairwise import cosine_similarity\n",
    "from app.src.vectorstore.vectorstore import embeddings\n",
    "\n",
    "def intra_query_diversity(docs):\n",
    "    docs_embeddings = embeddings.embed_documents(docs)\n",
    "    sim = cosine_similarity(docs_embeddings)\n",
    "    n = sim.shape[0]\n",
    "    total_sim = 0\n",
    "    count = 0\n",
    "    \n",
    "    for i in range(n):\n",
    "        for j in range(i+1, n):\n",
    "            total_sim += sim[i][j]\n",
    "            count += 1\n",
    "\n",
    "    avg_similarity = total_sim / count\n",
    "    diversity = 1 - avg_similarity\n",
    "    return diversity"
   ]
  },
  {
   "cell_type": "code",
   "execution_count": null,
   "id": "88a78867",
   "metadata": {},
   "outputs": [],
   "source": [
    "trivial_diversities = []\n",
    "multistep_diversities = []\n",
    "\n",
    "doc_func = lambda x: x.page_content\n",
    "\n",
    "for question in questions:\n",
    "    try:\n",
    "        triv_docs, _ = zip(*trivial_retrieve_from_local(question))\n",
    "        triv_docs = list(map(doc_func, triv_docs))\n",
    "        trivial_diversities.append(intra_query_diversity(triv_docs))\n",
    "\n",
    "        mult_docs, _ = zip(*retrieve_from_local(question))\n",
    "        mult_docs = list(map(doc_func, mult_docs))\n",
    "        multistep_diversities.append(intra_query_diversity(mult_docs))\n",
    "    except Exception as e:\n",
    "        continue"
   ]
  },
  {
   "cell_type": "code",
   "execution_count": 51,
   "id": "e55979e1",
   "metadata": {},
   "outputs": [
    {
     "name": "stdout",
     "output_type": "stream",
     "text": [
      "Среднее разнообразие на выдаче тривиального ретривера: 0.1230279803276062\n",
      "Среднее разнообразие на выдаче усложненного ретривера: 0.1091504842042923\n"
     ]
    }
   ],
   "source": [
    "trivial_divs = np.array(trivial_diversities, dtype=np.float32)\n",
    "multistep_divs = np.array(multistep_diversities, dtype=np.float32)\n",
    "\n",
    "print(f'Среднее разнообразие на выдаче тривиального ретривера: {np.mean(trivial_divs)}')\n",
    "\n",
    "print(f'Среднее разнообразие на выдаче усложненного ретривера: {np.mean(multistep_divs)}')"
   ]
  },
  {
   "cell_type": "markdown",
   "id": "ef0c3144",
   "metadata": {},
   "source": [
    "Среднее разнообразие усложненного ретривера чуть уменьшилось по сравнению с тривиальным из-за меньшей дисперсии выдачи. Это означает, что генератор будет получать от усложненного ретривера чуть меньше информации (так как документы больше похожи друг на друга), но при этом информация будет согласованнее по выдаче."
   ]
  }
 ],
 "metadata": {
  "kernelspec": {
   "display_name": ".venv",
   "language": "python",
   "name": "python3"
  },
  "language_info": {
   "codemirror_mode": {
    "name": "ipython",
    "version": 3
   },
   "file_extension": ".py",
   "mimetype": "text/x-python",
   "name": "python",
   "nbconvert_exporter": "python",
   "pygments_lexer": "ipython3",
   "version": "3.13.0"
  }
 },
 "nbformat": 4,
 "nbformat_minor": 5
}
